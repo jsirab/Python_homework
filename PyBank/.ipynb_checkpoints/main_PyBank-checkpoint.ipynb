{
 "cells": [
  {
   "cell_type": "code",
   "execution_count": null,
   "metadata": {},
   "outputs": [],
   "source": [
    "import os\n",
    "import csv\n",
    "\n",
    "with open('RESOURCES/budget_data.csv','r') as csvfile:\n",
    "    data = csv.reader(csvfile)\n",
    "    next(data)  \n",
    "    \n",
    "    for row in data:     \n",
    "        print(row[0], row[1])\n",
    "    \n",
    "    "
   ]
  },
  {
   "cell_type": "code",
   "execution_count": null,
   "metadata": {},
   "outputs": [],
   "source": [
    "# 1. The total number of months included in the dataset.\n",
    "\n",
    "#Create a list of dates, and list of profit & loses for easier data reading\n",
    "\n",
    "\n",
    "dates_list = []\n",
    "profit_and_loses_list = []\n",
    "count = 0\n",
    "\n",
    "with open('RESOURCES/budget_data.csv','r') as csvfile:\n",
    "    data = csv.reader(csvfile)\n",
    "    next(data)  \n",
    "\n",
    "    for i in data:\n",
    "        dates_list.append(i[0])\n",
    "        profit_and_loses_list.append(i[1])\n",
    "\n",
    "    # Cnverting all the profit_and_loses_list Values to int type\n",
    "    \n",
    "    for i in range(len(profit_and_loses_list)):\n",
    "        profit_and_loses_list[i]  = int(profit_and_loses_list[i])\n",
    "\n",
    "    for i in dates_list:\n",
    "        count += 1\n",
    "\n",
    "            \n",
    "print('----------------------------------')\n",
    "print(f'The total dates in Budget_data is: {count}')\n",
    "    "
   ]
  },
  {
   "cell_type": "code",
   "execution_count": null,
   "metadata": {},
   "outputs": [],
   "source": [
    "#The net total amount of Profit/Losses over the entire period.\n",
    "\n",
    "total = 0\n",
    "pl = 0 \n",
    "\n",
    "for pl in profit_and_loses_list:\n",
    "    total += pl\n",
    "print('-------------------------')    \n",
    "print(f'The Net profit & loss is: ${total}')\n",
    "\n"
   ]
  },
  {
   "cell_type": "code",
   "execution_count": 7,
   "metadata": {},
   "outputs": [
    {
     "name": "stdout",
     "output_type": "stream",
     "text": [
      "-------------\n",
      "The total average change in the period is: $-2289.2\n"
     ]
    },
    {
     "data": {
      "text/plain": [
       "532869"
      ]
     },
     "execution_count": 7,
     "metadata": {},
     "output_type": "execute_result"
    }
   ],
   "source": [
    "# The average of the changes in Profit/Losses over the entire period.\n",
    "\n",
    "monthly_changes = []\n",
    "change = 0\n",
    "average_pl = 0\n",
    "total_change = 0\n",
    "for i in range(len(profit_and_loses_list)-1):\n",
    "#    if i > 0:\n",
    "        change = (profit_and_loses_list[i+1]-(profit_and_loses_list[i]))\n",
    "#        print(change) (uncomment if change need to be printed)\n",
    "    #Create a list with monthly changes    \n",
    "        monthly_changes.append(change)\n",
    "        total_change += change\n",
    "print('-------------')\n",
    "\n",
    "average_pl = round(total_change / len(profit_and_loses_list)-1,2)\n",
    "print(f'The total average change in the period is: ${average_pl}')"
   ]
  },
  {
   "cell_type": "code",
   "execution_count": 19,
   "metadata": {},
   "outputs": [
    {
     "name": "stdout",
     "output_type": "stream",
     "text": [
      "1926159\n"
     ]
    },
    {
     "data": {
      "text/plain": [
       "85"
      ]
     },
     "execution_count": 19,
     "metadata": {},
     "output_type": "execute_result"
    }
   ],
   "source": [
    "# The greatest increase in profits (date and amount) over the entire period.\n",
    "\n",
    "maximum_change = 0\n",
    "change = 0\n",
    "for change in monthly_changes:\n",
    "    if maximum_change == 0:\n",
    "        maximum_change = change\n",
    "    elif change > maximum_change:\n",
    "        maximum_change = change\n",
    "        \n",
    "print(maximum_change)\n",
    "\n",
    "monthly_changes.index(maximum_change)\n",
    "\n",
    "len(monthly_changes)\n"
   ]
  },
  {
   "cell_type": "code",
   "execution_count": 17,
   "metadata": {},
   "outputs": [
    {
     "name": "stdout",
     "output_type": "stream",
     "text": [
      "-2196167\n"
     ]
    },
    {
     "data": {
      "text/plain": [
       "43"
      ]
     },
     "execution_count": 17,
     "metadata": {},
     "output_type": "execute_result"
    }
   ],
   "source": [
    "# The greatest decrease in losses (date and amount) over the entire period.\n",
    "\n",
    "maximum_loss=0\n",
    "\n",
    "for change in monthly_changes:\n",
    "    if maximum_loss == 0:\n",
    "        maximum_loss = change\n",
    "    elif change < maximum_loss:\n",
    "        maximum_loss = change\n",
    "        \n",
    "print(maximum_loss)\n",
    "monthly_changes.index(maximum_loss)"
   ]
  },
  {
   "cell_type": "code",
   "execution_count": null,
   "metadata": {},
   "outputs": [],
   "source": [
    "#Resources:\n",
    "\n",
    "#https://www.youtube.com/watch?v=q5uM4VKywbA&t=23s\n",
    "#https://docs.python.org/3/library/pdb.html?highlight=next#pdbcommand-next\n",
    "#https://www.geeksforgeeks.org/python-converting-all-strings-in-list-to-integers/"
   ]
  }
 ],
 "metadata": {
  "kernelspec": {
   "display_name": "Python 3",
   "language": "python",
   "name": "python3"
  },
  "language_info": {
   "codemirror_mode": {
    "name": "ipython",
    "version": 3
   },
   "file_extension": ".py",
   "mimetype": "text/x-python",
   "name": "python",
   "nbconvert_exporter": "python",
   "pygments_lexer": "ipython3",
   "version": "3.8.5"
  }
 },
 "nbformat": 4,
 "nbformat_minor": 4
}
