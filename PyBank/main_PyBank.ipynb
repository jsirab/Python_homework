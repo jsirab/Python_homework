{
 "cells": [
  {
   "cell_type": "code",
   "execution_count": 39,
   "metadata": {},
   "outputs": [
    {
     "name": "stdout",
     "output_type": "stream",
     "text": [
      "Jan-2010 867884\n",
      "Feb-2010 984655\n",
      "Mar-2010 322013\n",
      "Apr-2010 -69417\n",
      "May-2010 310503\n",
      "Jun-2010 522857\n",
      "Jul-2010 1033096\n",
      "Aug-2010 604885\n",
      "Sep-2010 -216386\n",
      "Oct-2010 477532\n",
      "Nov-2010 893810\n",
      "Dec-2010 -80353\n",
      "Jan-2011 779806\n",
      "Feb-2011 -335203\n",
      "Mar-2011 697845\n",
      "Apr-2011 793163\n",
      "May-2011 485070\n",
      "Jun-2011 584122\n",
      "Jul-2011 62729\n",
      "Aug-2011 668179\n",
      "Sep-2011 899906\n",
      "Oct-2011 834719\n",
      "Nov-2011 132003\n",
      "Dec-2011 309978\n",
      "Jan-2012 -755566\n",
      "Feb-2012 1170593\n",
      "Mar-2012 252788\n",
      "Apr-2012 1151518\n",
      "May-2012 817256\n",
      "Jun-2012 570757\n",
      "Jul-2012 506702\n",
      "Aug-2012 -1022534\n",
      "Sep-2012 475062\n",
      "Oct-2012 779976\n",
      "Nov-2012 144175\n",
      "Dec-2012 542494\n",
      "Jan-2013 359333\n",
      "Feb-2013 321469\n",
      "Mar-2013 67780\n",
      "Apr-2013 471435\n",
      "May-2013 565603\n",
      "Jun-2013 872480\n",
      "Jul-2013 789480\n",
      "Aug-2013 999942\n",
      "Sep-2013 -1196225\n",
      "Oct-2013 268997\n",
      "Nov-2013 -687986\n",
      "Dec-2013 1150461\n",
      "Jan-2014 682458\n",
      "Feb-2014 617856\n",
      "Mar-2014 824098\n",
      "Apr-2014 581943\n",
      "May-2014 132864\n",
      "Jun-2014 448062\n",
      "Jul-2014 689161\n",
      "Aug-2014 800701\n",
      "Sep-2014 1166643\n",
      "Oct-2014 947333\n",
      "Nov-2014 578668\n",
      "Dec-2014 988505\n",
      "Jan-2015 1139715\n",
      "Feb-2015 1029471\n",
      "Mar-2015 687533\n",
      "Apr-2015 -524626\n",
      "May-2015 158620\n",
      "Jun-2015 87795\n",
      "Jul-2015 423389\n",
      "Aug-2015 840723\n",
      "Sep-2015 568529\n",
      "Oct-2015 332067\n",
      "Nov-2015 989499\n",
      "Dec-2015 778237\n",
      "Jan-2016 650000\n",
      "Feb-2016 -1100387\n",
      "Mar-2016 -174946\n",
      "Apr-2016 757143\n",
      "May-2016 445709\n",
      "Jun-2016 712961\n",
      "Jul-2016 -1163797\n",
      "Aug-2016 569899\n",
      "Sep-2016 768450\n",
      "Oct-2016 102685\n",
      "Nov-2016 795914\n",
      "Dec-2016 60988\n",
      "Jan-2017 138230\n",
      "Feb-2017 671099\n"
     ]
    }
   ],
   "source": [
    "import os\n",
    "import csv\n",
    "\n",
    "with open('RESOURCES/budget_data.csv','r') as csvfile:\n",
    "    data = csv.reader(csvfile)\n",
    "    next(data)  \n",
    "    \n",
    "    for row in data:     \n",
    "        print(row[0], row[1])\n",
    "    \n",
    "    "
   ]
  },
  {
   "cell_type": "code",
   "execution_count": 36,
   "metadata": {},
   "outputs": [
    {
     "name": "stdout",
     "output_type": "stream",
     "text": [
      "----------------------------------\n",
      "The total dates in Budget_data is: 86 dates\n"
     ]
    }
   ],
   "source": [
    "# 1. The total number of months included in the dataset.\n",
    "\n",
    "#Create a list of dates, and list of profit & loses for easier data reading\n",
    "\n",
    "\n",
    "dates_list = []\n",
    "profit_and_loses_list = []\n",
    "count = 0\n",
    "\n",
    "with open('RESOURCES/budget_data.csv','r') as csvfile:\n",
    "    data = csv.reader(csvfile)\n",
    "    next(data)  \n",
    "\n",
    "    for i in data:\n",
    "        dates_list.append(i[0])\n",
    "        profit_and_loses_list.append(i[1])\n",
    "\n",
    "    # Converting all the profit_and_loses_list Values to int type\n",
    "    \n",
    "    for i in range(len(profit_and_loses_list)):\n",
    "        profit_and_loses_list[i]  = int(profit_and_loses_list[i])\n",
    "\n",
    "    for i in dates_list:\n",
    "        count += 1\n",
    "\n",
    "            \n",
    "print('----------------------------------')\n",
    "print(f'The total dates in Budget_data is: {count} dates')\n",
    "    "
   ]
  },
  {
   "cell_type": "code",
   "execution_count": 37,
   "metadata": {},
   "outputs": [
    {
     "name": "stdout",
     "output_type": "stream",
     "text": [
      "-------------------------\n",
      "The Net profit & loss is: $38382578\n"
     ]
    }
   ],
   "source": [
    "#The net total amount of Profit/Losses over the entire period.\n",
    "\n",
    "total = 0\n",
    "pl = 0 \n",
    "\n",
    "for pl in profit_and_loses_list:\n",
    "    total += pl\n",
    "print('-------------------------')    \n",
    "print(f'The Net profit & loss is: ${total}')\n",
    "\n"
   ]
  },
  {
   "cell_type": "code",
   "execution_count": 38,
   "metadata": {},
   "outputs": [
    {
     "name": "stdout",
     "output_type": "stream",
     "text": [
      "-------------\n",
      "The total average change in the period is: $-2289.2\n"
     ]
    }
   ],
   "source": [
    "# The average of the changes in Profit/Losses over the entire period.\n",
    "\n",
    "monthly_changes = []\n",
    "change = 0\n",
    "average_pl = 0\n",
    "total_change = 0\n",
    "for i in range(len(profit_and_loses_list)-1):\n",
    "#    if i > 0:\n",
    "        change = (profit_and_loses_list[i+1]-(profit_and_loses_list[i]))\n",
    "#        print(change) (uncomment if change need to be printed)\n",
    "    #Create a list with monthly changes    \n",
    "        monthly_changes.append(change)\n",
    "        total_change += change\n",
    "print('-------------')\n",
    "\n",
    "average_pl = round(total_change / len(profit_and_loses_list)-1,2)\n",
    "print(f'The total average change in the period is: ${average_pl}')"
   ]
  },
  {
   "cell_type": "code",
   "execution_count": 31,
   "metadata": {},
   "outputs": [
    {
     "name": "stdout",
     "output_type": "stream",
     "text": [
      "1926159\n",
      "Feb-2012\n",
      "The greatest increase in profits was achive in Feb-2012 and the amount was $1926159\n"
     ]
    }
   ],
   "source": [
    "# The greatest increase in profits (date and amount) over the entire period.\n",
    "\n",
    "maximum_change = 0\n",
    "change = 0\n",
    "for change in monthly_changes:\n",
    "    if maximum_change == 0:\n",
    "        maximum_change = change\n",
    "    elif change > maximum_change:\n",
    "        maximum_change = change\n",
    "        \n",
    "print(maximum_change)\n",
    "# The date from the date_list[] when the greatest increase (maximun_change) took place its 1(one) index grater the change from the changes_list\n",
    "print(dates_list[monthly_changes.index(maximum_change)+1])\n",
    "\n",
    "print(f'The greatest increase in profits was achive in {dates_list[monthly_changes.index(maximum_change)+1]} and the amount was ${maximum_change}')\n"
   ]
  },
  {
   "cell_type": "code",
   "execution_count": 32,
   "metadata": {},
   "outputs": [
    {
     "name": "stdout",
     "output_type": "stream",
     "text": [
      "-2196167\n",
      "Sep-2013\n",
      "The greatest increase in profits was achive in Sep-2013 and the amount was $-2196167\n"
     ]
    }
   ],
   "source": [
    "# The greatest decrease in losses (date and amount) over the entire period.\n",
    "\n",
    "maximum_loss=0\n",
    "\n",
    "for change in monthly_changes:\n",
    "    if maximum_loss == 0:\n",
    "        maximum_loss = change\n",
    "    elif change < maximum_loss:\n",
    "        maximum_loss = change\n",
    "        \n",
    "print(maximum_loss)\n",
    "\n",
    "\n",
    "# The date from the date_list[] when the greatest decrease (maximun_loss) took place its 1(one) index grater the change from the changes_list\n",
    "print(dates_list[monthly_changes.index(maximum_loss)+1])\n",
    "\n",
    "print(f'The greatest decrease in profits was achive in {dates_list[monthly_changes.index(maximum_loss)+1]} and the amount was ${maximum_loss}')"
   ]
  },
  {
   "cell_type": "code",
   "execution_count": null,
   "metadata": {},
   "outputs": [],
   "source": [
    "#Resources:\n",
    "\n",
    "#https://www.youtube.com/watch?v=q5uM4VKywbA&t=23s\n",
    "#https://docs.python.org/3/library/pdb.html?highlight=next#pdbcommand-next\n",
    "#https://www.geeksforgeeks.org/python-converting-all-strings-in-list-to-integers/"
   ]
  }
 ],
 "metadata": {
  "kernelspec": {
   "display_name": "Python 3",
   "language": "python",
   "name": "python3"
  },
  "language_info": {
   "codemirror_mode": {
    "name": "ipython",
    "version": 3
   },
   "file_extension": ".py",
   "mimetype": "text/x-python",
   "name": "python",
   "nbconvert_exporter": "python",
   "pygments_lexer": "ipython3",
   "version": "3.8.5"
  }
 },
 "nbformat": 4,
 "nbformat_minor": 4
}
